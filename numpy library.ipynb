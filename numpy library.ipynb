{
  "nbformat": 4,
  "nbformat_minor": 0,
  "metadata": {
    "colab": {
      "provenance": [],
      "authorship_tag": "ABX9TyPR8M8ssVli08teQSAsiZEv",
      "include_colab_link": true
    },
    "kernelspec": {
      "name": "python3",
      "display_name": "Python 3"
    },
    "language_info": {
      "name": "python"
    }
  },
  "cells": [
    {
      "cell_type": "markdown",
      "metadata": {
        "id": "view-in-github",
        "colab_type": "text"
      },
      "source": [
        "<a href=\"https://colab.research.google.com/github/Bigmee/Data-analysis-python-/blob/main/numpy%20library.ipynb\" target=\"_parent\"><img src=\"https://colab.research.google.com/assets/colab-badge.svg\" alt=\"Open In Colab\"/></a>"
      ]
    },
    {
      "cell_type": "markdown",
      "source": [],
      "metadata": {
        "id": "Qy3jhxnJ3HjI"
      }
    },
    {
      "cell_type": "code",
      "source": [
        "x = 2**7\n",
        "print(x)"
      ],
      "metadata": {
        "id": "LBvw1V1R32md",
        "colab": {
          "base_uri": "https://localhost:8080/"
        },
        "outputId": "9c1b131d-2661-48ae-c81f-bfcef0b2eb77"
      },
      "execution_count": 3,
      "outputs": [
        {
          "output_type": "stream",
          "name": "stdout",
          "text": [
            "128\n"
          ]
        }
      ]
    },
    {
      "cell_type": "code",
      "execution_count": 8,
      "metadata": {
        "id": "gwfod20rOuCF"
      },
      "outputs": [],
      "source": [
        "import sys\n",
        "import numpy\n",
        "import numpy as np\n"
      ]
    },
    {
      "cell_type": "code",
      "source": [
        "\n",
        "np.array([1,2,3,4,5,6,7,7])\n"
      ],
      "metadata": {
        "colab": {
          "base_uri": "https://localhost:8080/"
        },
        "id": "r5gwEitziqlp",
        "outputId": "64065242-6a5b-4748-95c2-7aa0caf0d057"
      },
      "execution_count": 9,
      "outputs": [
        {
          "output_type": "execute_result",
          "data": {
            "text/plain": [
              "array([1, 2, 3, 4, 5, 6, 7, 7])"
            ]
          },
          "metadata": {},
          "execution_count": 9
        }
      ]
    },
    {
      "cell_type": "code",
      "source": [
        "a = np.array([0,23,4,5,6,7])\n",
        "a[0],a[3]"
      ],
      "metadata": {
        "colab": {
          "base_uri": "https://localhost:8080/"
        },
        "id": "t47lNIT7kM_f",
        "outputId": "469f9ae6-f655-4bb7-d9bc-09c7d9a9cde2"
      },
      "execution_count": 12,
      "outputs": [
        {
          "output_type": "execute_result",
          "data": {
            "text/plain": [
              "(0, 5)"
            ]
          },
          "metadata": {},
          "execution_count": 12
        }
      ]
    },
    {
      "cell_type": "code",
      "source": [],
      "metadata": {
        "id": "hkSaxTJQndU9"
      },
      "execution_count": null,
      "outputs": []
    }
  ]
}