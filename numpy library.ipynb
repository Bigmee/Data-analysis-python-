{
  "nbformat": 4,
  "nbformat_minor": 0,
  "metadata": {
    "colab": {
      "provenance": [],
      "authorship_tag": "ABX9TyOrZRks5yJyCLfg6ZUUvfLf",
      "include_colab_link": true
    },
    "kernelspec": {
      "name": "python3",
      "display_name": "Python 3"
    },
    "language_info": {
      "name": "python"
    }
  },
  "cells": [
    {
      "cell_type": "markdown",
      "metadata": {
        "id": "view-in-github",
        "colab_type": "text"
      },
      "source": [
        "<a href=\"https://colab.research.google.com/github/Bigmee/Data-analysis-python-/blob/main/numpy%20library.ipynb\" target=\"_parent\"><img src=\"https://colab.research.google.com/assets/colab-badge.svg\" alt=\"Open In Colab\"/></a>"
      ]
    },
    {
      "cell_type": "markdown",
      "source": [],
      "metadata": {
        "id": "Qy3jhxnJ3HjI"
      }
    },
    {
      "cell_type": "code",
      "source": [
        "x = 2**7\n",
        "print(x)"
      ],
      "metadata": {
        "id": "LBvw1V1R32md",
        "colab": {
          "base_uri": "https://localhost:8080/"
        },
        "outputId": "9c1b131d-2661-48ae-c81f-bfcef0b2eb77"
      },
      "execution_count": null,
      "outputs": [
        {
          "output_type": "stream",
          "name": "stdout",
          "text": [
            "128\n"
          ]
        }
      ]
    },
    {
      "cell_type": "code",
      "execution_count": 7,
      "metadata": {
        "id": "gwfod20rOuCF"
      },
      "outputs": [],
      "source": [
        "import sys\n",
        "import numpy\n",
        "import numpy as np\n"
      ]
    },
    {
      "cell_type": "code",
      "source": [
        "\n",
        "np.array([1,2,3,4,5,6,7,7])\n"
      ],
      "metadata": {
        "colab": {
          "base_uri": "https://localhost:8080/"
        },
        "id": "r5gwEitziqlp",
        "outputId": "91662dde-f7b9-4785-aab8-c8af859e0613"
      },
      "execution_count": 8,
      "outputs": [
        {
          "output_type": "execute_result",
          "data": {
            "text/plain": [
              "array([1, 2, 3, 4, 5, 6, 7, 7])"
            ]
          },
          "metadata": {},
          "execution_count": 8
        }
      ]
    },
    {
      "cell_type": "code",
      "source": [
        "a = np.array([0,23,4,5,6,7])\n",
        "a[0],a[3]"
      ],
      "metadata": {
        "colab": {
          "base_uri": "https://localhost:8080/"
        },
        "id": "t47lNIT7kM_f",
        "outputId": "b4b5618c-8379-44e6-85ae-de836820c47d"
      },
      "execution_count": 9,
      "outputs": [
        {
          "output_type": "execute_result",
          "data": {
            "text/plain": [
              "(0, 5)"
            ]
          },
          "metadata": {},
          "execution_count": 9
        }
      ]
    },
    {
      "cell_type": "code",
      "source": [
        "\n",
        "a[[0, 1, 3, -1]]"
      ],
      "metadata": {
        "id": "hkSaxTJQndU9",
        "colab": {
          "base_uri": "https://localhost:8080/"
        },
        "outputId": "cca5f8ae-8550-4406-82cd-cfd11c6c3303"
      },
      "execution_count": 10,
      "outputs": [
        {
          "output_type": "execute_result",
          "data": {
            "text/plain": [
              "array([ 0, 23,  5,  7])"
            ]
          },
          "metadata": {},
          "execution_count": 10
        }
      ]
    },
    {
      "cell_type": "code",
      "source": [
        "a.dtype"
      ],
      "metadata": {
        "id": "NtasNNg9bcS5",
        "outputId": "17258e99-ec29-407a-9bc2-c0ad7b34fea5",
        "colab": {
          "base_uri": "https://localhost:8080/"
        }
      },
      "execution_count": 11,
      "outputs": [
        {
          "output_type": "execute_result",
          "data": {
            "text/plain": [
              "dtype('int64')"
            ]
          },
          "metadata": {},
          "execution_count": 11
        }
      ]
    },
    {
      "cell_type": "code",
      "source": [
        "np.array([0,3, 5,], dtype = float)"
      ],
      "metadata": {
        "id": "43BztDXZFZzr",
        "outputId": "0929111c-d28e-415f-f16f-43e484f6f632",
        "colab": {
          "base_uri": "https://localhost:8080/"
        }
      },
      "execution_count": 13,
      "outputs": [
        {
          "output_type": "execute_result",
          "data": {
            "text/plain": [
              "array([0., 3., 5.])"
            ]
          },
          "metadata": {},
          "execution_count": 13
        }
      ]
    },
    {
      "cell_type": "markdown",
      "source": [
        "Multidimensional array\n"
      ],
      "metadata": {
        "id": "pKsMA860t197"
      }
    },
    {
      "cell_type": "code",
      "source": [
        "b = np.array([[1,3,4,4,4],\n",
        "             [5,6,7,6,6]])\n"
      ],
      "metadata": {
        "id": "73sIN3kBt9iC"
      },
      "execution_count": 22,
      "outputs": []
    },
    {
      "cell_type": "code",
      "source": [
        "b.shape"
      ],
      "metadata": {
        "id": "v3BaJsTHuX0V",
        "outputId": "63d9a0c4-bd95-4d32-ab74-72a7bebe77e4",
        "colab": {
          "base_uri": "https://localhost:8080/"
        }
      },
      "execution_count": 23,
      "outputs": [
        {
          "output_type": "execute_result",
          "data": {
            "text/plain": [
              "(2, 5)"
            ]
          },
          "metadata": {},
          "execution_count": 23
        }
      ]
    },
    {
      "cell_type": "code",
      "source": [
        "b.size"
      ],
      "metadata": {
        "id": "XQrxQ1AluZak",
        "outputId": "9c0560f7-ade3-42b6-e2b3-49e963b2d18e",
        "colab": {
          "base_uri": "https://localhost:8080/"
        }
      },
      "execution_count": 24,
      "outputs": [
        {
          "output_type": "execute_result",
          "data": {
            "text/plain": [
              "10"
            ]
          },
          "metadata": {},
          "execution_count": 24
        }
      ]
    },
    {
      "cell_type": "markdown",
      "source": [
        "3 dimentional array"
      ],
      "metadata": {
        "id": "PZp7X6WAvlNP"
      }
    },
    {
      "cell_type": "code",
      "source": [
        "c =np.array([[\n",
        "    [1,2,3,4],\n",
        "    [1,2,4,5]\n",
        "],\n",
        "   [\n",
        "       [3,4,5,6],\n",
        "    [7,8,8,8]\n",
        "       \n",
        "   ]      \n",
        "         \n",
        "         \n",
        "         ])"
      ],
      "metadata": {
        "id": "HgLpJlHavWY3"
      },
      "execution_count": 25,
      "outputs": []
    },
    {
      "cell_type": "code",
      "source": [
        "c.size"
      ],
      "metadata": {
        "id": "jptx0KIZwcqI",
        "outputId": "2efbe4aa-3b25-49ab-a551-c11ecebb3acd",
        "colab": {
          "base_uri": "https://localhost:8080/"
        }
      },
      "execution_count": 26,
      "outputs": [
        {
          "output_type": "execute_result",
          "data": {
            "text/plain": [
              "16"
            ]
          },
          "metadata": {},
          "execution_count": 26
        }
      ]
    },
    {
      "cell_type": "code",
      "source": [
        "c.shape"
      ],
      "metadata": {
        "id": "fTKY0IT0weWb",
        "outputId": "b66de487-3c6f-4c3f-9b0d-46644ca06048",
        "colab": {
          "base_uri": "https://localhost:8080/"
        }
      },
      "execution_count": 27,
      "outputs": [
        {
          "output_type": "execute_result",
          "data": {
            "text/plain": [
              "(2, 2, 4)"
            ]
          },
          "metadata": {},
          "execution_count": 27
        }
      ]
    },
    {
      "cell_type": "code",
      "source": [
        "c[1][0]"
      ],
      "metadata": {
        "id": "82Nwhddywu-k",
        "outputId": "eca3bc99-d43d-4259-d41b-da1e21e53f35",
        "colab": {
          "base_uri": "https://localhost:8080/"
        }
      },
      "execution_count": 30,
      "outputs": [
        {
          "output_type": "execute_result",
          "data": {
            "text/plain": [
              "array([3, 4, 5, 6])"
            ]
          },
          "metadata": {},
          "execution_count": 30
        }
      ]
    },
    {
      "cell_type": "code",
      "source": [
        "b[0:-1]"
      ],
      "metadata": {
        "id": "ui19RkyoxX3Q",
        "outputId": "95cb2c27-8c1e-4178-c839-07e4de85ca7b",
        "colab": {
          "base_uri": "https://localhost:8080/"
        }
      },
      "execution_count": 31,
      "outputs": [
        {
          "output_type": "execute_result",
          "data": {
            "text/plain": [
              "array([[1, 3, 4, 4, 4]])"
            ]
          },
          "metadata": {},
          "execution_count": 31
        }
      ]
    },
    {
      "cell_type": "code",
      "source": [
        "a[:1]"
      ],
      "metadata": {
        "id": "6aNepmJXxudP",
        "outputId": "0f4bbe4b-0180-452b-bcc5-8c778be89543",
        "colab": {
          "base_uri": "https://localhost:8080/"
        }
      },
      "execution_count": 32,
      "outputs": [
        {
          "output_type": "execute_result",
          "data": {
            "text/plain": [
              "array([0])"
            ]
          },
          "metadata": {},
          "execution_count": 32
        }
      ]
    },
    {
      "cell_type": "code",
      "source": [
        "b[:2]"
      ],
      "metadata": {
        "id": "CZPaNmLSyN7z",
        "outputId": "4a0d190c-fcdf-4d34-f683-3bb4b336a4a2",
        "colab": {
          "base_uri": "https://localhost:8080/"
        }
      },
      "execution_count": 33,
      "outputs": [
        {
          "output_type": "execute_result",
          "data": {
            "text/plain": [
              "array([[1, 3, 4, 4, 4],\n",
              "       [5, 6, 7, 6, 6]])"
            ]
          },
          "metadata": {},
          "execution_count": 33
        }
      ]
    },
    {
      "cell_type": "code",
      "source": [
        "c[:2]"
      ],
      "metadata": {
        "id": "p6_-1suvyS1I",
        "outputId": "6c47aec2-7e56-485a-91d3-1a7a69ea6400",
        "colab": {
          "base_uri": "https://localhost:8080/"
        }
      },
      "execution_count": 34,
      "outputs": [
        {
          "output_type": "execute_result",
          "data": {
            "text/plain": [
              "array([[[1, 2, 3, 4],\n",
              "        [1, 2, 4, 5]],\n",
              "\n",
              "       [[3, 4, 5, 6],\n",
              "        [7, 8, 8, 8]]])"
            ]
          },
          "metadata": {},
          "execution_count": 34
        }
      ]
    },
    {
      "cell_type": "code",
      "source": [
        "c[:, :1]"
      ],
      "metadata": {
        "id": "sUxB8m8UyXGP",
        "outputId": "093e086b-0734-4fa3-d3fc-3b148db8dd84",
        "colab": {
          "base_uri": "https://localhost:8080/"
        }
      },
      "execution_count": 36,
      "outputs": [
        {
          "output_type": "execute_result",
          "data": {
            "text/plain": [
              "array([[[1, 2, 3, 4]],\n",
              "\n",
              "       [[3, 4, 5, 6]]])"
            ]
          },
          "metadata": {},
          "execution_count": 36
        }
      ]
    },
    {
      "cell_type": "code",
      "source": [
        "c[:0, :0]"
      ],
      "metadata": {
        "id": "VmhrfDCAymhe",
        "outputId": "74badcde-589b-4016-ddbb-c78ed8e7fa0f",
        "colab": {
          "base_uri": "https://localhost:8080/"
        }
      },
      "execution_count": 41,
      "outputs": [
        {
          "output_type": "execute_result",
          "data": {
            "text/plain": [
              "array([], shape=(0, 0, 4), dtype=int64)"
            ]
          },
          "metadata": {},
          "execution_count": 41
        }
      ]
    },
    {
      "cell_type": "code",
      "source": [
        "c[0][0]"
      ],
      "metadata": {
        "id": "wjTc4-lXzCy6",
        "outputId": "9a1acc0d-3e25-4b76-8225-0863f05c4bc0",
        "colab": {
          "base_uri": "https://localhost:8080/"
        }
      },
      "execution_count": 42,
      "outputs": [
        {
          "output_type": "execute_result",
          "data": {
            "text/plain": [
              "array([1, 2, 3, 4])"
            ]
          },
          "metadata": {},
          "execution_count": 42
        }
      ]
    },
    {
      "cell_type": "code",
      "source": [
        "c[0:0]"
      ],
      "metadata": {
        "id": "MPOHlzI0zmBf",
        "outputId": "3c84abc1-3355-4254-e198-300844c74bf9",
        "colab": {
          "base_uri": "https://localhost:8080/"
        }
      },
      "execution_count": 43,
      "outputs": [
        {
          "output_type": "execute_result",
          "data": {
            "text/plain": [
              "array([], shape=(0, 2, 4), dtype=int64)"
            ]
          },
          "metadata": {},
          "execution_count": 43
        }
      ]
    },
    {
      "cell_type": "code",
      "source": [
        "c[0][0][0]"
      ],
      "metadata": {
        "id": "qAPlhOmkzrS_",
        "outputId": "85a1f7fb-2adf-4acf-fe0e-11bad7b99db4",
        "colab": {
          "base_uri": "https://localhost:8080/"
        }
      },
      "execution_count": 45,
      "outputs": [
        {
          "output_type": "execute_result",
          "data": {
            "text/plain": [
              "1"
            ]
          },
          "metadata": {},
          "execution_count": 45
        }
      ]
    },
    {
      "cell_type": "code",
      "source": [
        "c[0] = 99"
      ],
      "metadata": {
        "id": "OfMCd9TNzvfS"
      },
      "execution_count": 46,
      "outputs": []
    },
    {
      "cell_type": "code",
      "source": [
        "c[0]"
      ],
      "metadata": {
        "id": "kKp14_KP0Tvg",
        "outputId": "202fb369-d34a-4620-b28d-da9e57cde119",
        "colab": {
          "base_uri": "https://localhost:8080/"
        }
      },
      "execution_count": 47,
      "outputs": [
        {
          "output_type": "execute_result",
          "data": {
            "text/plain": [
              "array([[99, 99, 99, 99],\n",
              "       [99, 99, 99, 99]])"
            ]
          },
          "metadata": {},
          "execution_count": 47
        }
      ]
    },
    {
      "cell_type": "code",
      "source": [
        "c.sum()"
      ],
      "metadata": {
        "id": "DsTTIeIG0ZcV",
        "outputId": "c5c6699e-3c9d-4d1c-8320-9556881e0a5c",
        "colab": {
          "base_uri": "https://localhost:8080/"
        }
      },
      "execution_count": 50,
      "outputs": [
        {
          "output_type": "execute_result",
          "data": {
            "text/plain": [
              "841"
            ]
          },
          "metadata": {},
          "execution_count": 50
        }
      ]
    },
    {
      "cell_type": "code",
      "source": [
        "c.mean()"
      ],
      "metadata": {
        "id": "cC0OpktW0sUb",
        "outputId": "bf183105-d845-4db3-c5ed-c2906ecc0622",
        "colab": {
          "base_uri": "https://localhost:8080/"
        }
      },
      "execution_count": 51,
      "outputs": [
        {
          "output_type": "execute_result",
          "data": {
            "text/plain": [
              "52.5625"
            ]
          },
          "metadata": {},
          "execution_count": 51
        }
      ]
    },
    {
      "cell_type": "code",
      "source": [
        "c.std()"
      ],
      "metadata": {
        "id": "85qsb4-N047d",
        "outputId": "3ed5d360-99d4-4148-83aa-0246784017ed",
        "colab": {
          "base_uri": "https://localhost:8080/"
        }
      },
      "execution_count": 52,
      "outputs": [
        {
          "output_type": "execute_result",
          "data": {
            "text/plain": [
              "46.45558194393866"
            ]
          },
          "metadata": {},
          "execution_count": 52
        }
      ]
    },
    {
      "cell_type": "code",
      "source": [
        "c.sum(axis=0)\n"
      ],
      "metadata": {
        "id": "oZ16p6GH08Dw",
        "outputId": "9059a105-40d3-43e6-bc90-e42b4460ae6d",
        "colab": {
          "base_uri": "https://localhost:8080/"
        }
      },
      "execution_count": 55,
      "outputs": [
        {
          "output_type": "execute_result",
          "data": {
            "text/plain": [
              "array([[102, 103, 104, 105],\n",
              "       [106, 107, 107, 107]])"
            ]
          },
          "metadata": {},
          "execution_count": 55
        }
      ]
    },
    {
      "cell_type": "code",
      "source": [
        "c.std(axis=1)"
      ],
      "metadata": {
        "id": "7EvXq9Q_1MyT",
        "outputId": "45712e2e-5121-4c1b-ba00-9747c72f2e79",
        "colab": {
          "base_uri": "https://localhost:8080/"
        }
      },
      "execution_count": 56,
      "outputs": [
        {
          "output_type": "execute_result",
          "data": {
            "text/plain": [
              "array([[0. , 0. , 0. , 0. ],\n",
              "       [2. , 2. , 1.5, 1. ]])"
            ]
          },
          "metadata": {},
          "execution_count": 56
        }
      ]
    },
    {
      "cell_type": "code",
      "source": [
        "A = np.array([\n",
        "    ['a', 'b', 'c'],\n",
        "    ['d', 'e', 'f'],\n",
        "    ['g', 'h', 'i']\n",
        "])\n",
        "\n",
        "print(A[:, :2])"
      ],
      "metadata": {
        "id": "SXXLjd2e8Q5U",
        "outputId": "54a73bf1-de97-461e-836c-ba4feda0c12e",
        "colab": {
          "base_uri": "https://localhost:8080/"
        }
      },
      "execution_count": 63,
      "outputs": [
        {
          "output_type": "stream",
          "name": "stdout",
          "text": [
            "[['a' 'b']\n",
            " ['d' 'e']\n",
            " ['g' 'h']]\n"
          ]
        }
      ]
    },
    {
      "cell_type": "markdown",
      "source": [
        "Broadcasting and Vectorising Operations "
      ],
      "metadata": {
        "id": "7mO7H--n95VK"
      }
    },
    {
      "cell_type": "code",
      "source": [
        "x = np.arange(7)"
      ],
      "metadata": {
        "id": "EdysuIoI8YLh"
      },
      "execution_count": 73,
      "outputs": []
    },
    {
      "cell_type": "code",
      "source": [
        "x"
      ],
      "metadata": {
        "id": "eJevDVe4-SFG",
        "outputId": "bfa37a89-330b-43cc-b5cf-0a2d9e38c241",
        "colab": {
          "base_uri": "https://localhost:8080/"
        }
      },
      "execution_count": 74,
      "outputs": [
        {
          "output_type": "execute_result",
          "data": {
            "text/plain": [
              "array([0, 1, 2, 3, 4, 5, 6])"
            ]
          },
          "metadata": {},
          "execution_count": 74
        }
      ]
    },
    {
      "cell_type": "code",
      "source": [
        "x+100"
      ],
      "metadata": {
        "id": "qONpL9EV-UVI",
        "outputId": "602b21af-4d46-435f-e468-4556713471c3",
        "colab": {
          "base_uri": "https://localhost:8080/"
        }
      },
      "execution_count": 77,
      "outputs": [
        {
          "output_type": "execute_result",
          "data": {
            "text/plain": [
              "array([100, 101, 102, 103, 104, 105, 106])"
            ]
          },
          "metadata": {},
          "execution_count": 77
        }
      ]
    },
    {
      "cell_type": "code",
      "source": [
        "x"
      ],
      "metadata": {
        "id": "2m4_GGrs-waH",
        "outputId": "fcf74946-4686-4f58-ebae-2646144ac168",
        "colab": {
          "base_uri": "https://localhost:8080/"
        }
      },
      "execution_count": 78,
      "outputs": [
        {
          "output_type": "execute_result",
          "data": {
            "text/plain": [
              "array([0, 1, 2, 3, 4, 5, 6])"
            ]
          },
          "metadata": {},
          "execution_count": 78
        }
      ]
    },
    {
      "cell_type": "code",
      "source": [
        "l = [1, 2, 3, 4]"
      ],
      "metadata": {
        "id": "NTicdo_tFCBR"
      },
      "execution_count": 79,
      "outputs": []
    },
    {
      "cell_type": "code",
      "source": [
        "[i * 10 for i in x]"
      ],
      "metadata": {
        "id": "HCM8d1dP-x1l",
        "outputId": "434bcfa8-1687-4824-b41e-40d4898ab27c",
        "colab": {
          "base_uri": "https://localhost:8080/"
        }
      },
      "execution_count": 81,
      "outputs": [
        {
          "output_type": "execute_result",
          "data": {
            "text/plain": [
              "[0, 10, 20, 30, 40, 50, 60]"
            ]
          },
          "metadata": {},
          "execution_count": 81
        }
      ]
    },
    {
      "cell_type": "code",
      "source": [],
      "metadata": {
        "id": "HfhrOlnhFbhC"
      },
      "execution_count": null,
      "outputs": []
    },
    {
      "cell_type": "markdown",
      "source": [
        "Boolean\n"
      ],
      "metadata": {
        "id": "77uhe63PGK54"
      }
    },
    {
      "cell_type": "code",
      "source": [
        "w = np.arange(4)\n"
      ],
      "metadata": {
        "id": "LMbd48uxGOKR"
      },
      "execution_count": 83,
      "outputs": []
    },
    {
      "cell_type": "code",
      "source": [
        "w"
      ],
      "metadata": {
        "id": "6oqa7-ydGs-i",
        "outputId": "7c7c13eb-f40c-411d-c92f-15f7d5758e4c",
        "colab": {
          "base_uri": "https://localhost:8080/"
        }
      },
      "execution_count": 84,
      "outputs": [
        {
          "output_type": "execute_result",
          "data": {
            "text/plain": [
              "array([0, 1, 2, 3])"
            ]
          },
          "metadata": {},
          "execution_count": 84
        }
      ]
    },
    {
      "cell_type": "code",
      "source": [
        "w[[True, False, False, True]]"
      ],
      "metadata": {
        "id": "-DjjChxMG5LJ",
        "outputId": "23b276a2-2b05-477d-f52d-a108b15789ce",
        "colab": {
          "base_uri": "https://localhost:8080/"
        }
      },
      "execution_count": 86,
      "outputs": [
        {
          "output_type": "execute_result",
          "data": {
            "text/plain": [
              "array([0, 3])"
            ]
          },
          "metadata": {},
          "execution_count": 86
        }
      ]
    },
    {
      "cell_type": "code",
      "source": [],
      "metadata": {
        "id": "iQWOPKKJHIjf"
      },
      "execution_count": null,
      "outputs": []
    }
  ]
}